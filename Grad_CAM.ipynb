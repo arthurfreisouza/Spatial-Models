{
  "nbformat": 4,
  "nbformat_minor": 0,
  "metadata": {
    "colab": {
      "provenance": []
    },
    "kernelspec": {
      "name": "python3",
      "display_name": "Python 3"
    },
    "language_info": {
      "name": "python"
    }
  },
  "cells": [
    {
      "cell_type": "code",
      "execution_count": null,
      "metadata": {
        "id": "__BcfHU3R2PE"
      },
      "outputs": [],
      "source": [
        "from IPython.display import Image, display\n",
        "import matplotlib as mpl\n",
        "import matplotlib.pyplot as plt\n",
        "import numpy as np\n",
        "import tensorflow as tf\n",
        "import keras"
      ]
    },
    {
      "cell_type": "code",
      "source": [
        "model_builder = keras.applications.xception.Xception\n",
        "img_size = (299, 299)\n",
        "preprocess_input = keras.applications.xception.preprocess_input\n",
        "decode_predictions = keras.applications.xception.decode_predictions"
      ],
      "metadata": {
        "id": "m0tTE_c0YTZi"
      },
      "execution_count": null,
      "outputs": []
    },
    {
      "cell_type": "code",
      "source": [
        "last_conv_layer_name = \"block14_sepconv2_act\""
      ],
      "metadata": {
        "id": "TDUNbbD6YTcS"
      },
      "execution_count": null,
      "outputs": []
    },
    {
      "cell_type": "code",
      "source": [
        "img_path= \"dog.jpeg\""
      ],
      "metadata": {
        "id": "V5XbVPevYThN"
      },
      "execution_count": null,
      "outputs": []
    },
    {
      "cell_type": "code",
      "source": [
        "def get_img_array(img_path, size):\n",
        "    ## `img` is a PIL image\n",
        "    img = keras.utils.load_img(img_path, target_size=size)\n",
        "    array = keras.utils.img_to_array(img)\n",
        "    ## We add a dimension to transform our array into a \"batch\"\n",
        "    array = np.expand_dims(array, axis=0)\n",
        "    return array"
      ],
      "metadata": {
        "id": "swe014hPZm3n"
      },
      "execution_count": null,
      "outputs": []
    },
    {
      "cell_type": "code",
      "source": [
        "def make_gradcam_heatmap(img_array, model, last_conv_layer_name, pred_index=None):\n",
        "    ## First, we create a model that maps the input image to the activations\n",
        "    ## of the last conv layer as well as the output predictions\n",
        "    grad_model = keras.models.Model(\n",
        "        model.inputs, [model.get_layer(last_conv_layer_name).output, model.output]\n",
        "    )\n",
        "\n",
        "    ## Then, we compute the gradient of the top predicted class for our input image\n",
        "    ## for the activations of the last conv layer\n",
        "    with tf.GradientTape() as tape:\n",
        "        last_conv_layer_output, preds = grad_model(img_array)\n",
        "        if pred_index is None:\n",
        "            pred_index = tf.argmax(preds[0])\n",
        "        class_channel = preds[:, pred_index]\n",
        "\n",
        "    ## We are doing transfer learning on last layer\n",
        "    grads = tape.gradient(class_channel, last_conv_layer_output)\n",
        "\n",
        "    ## This is a vector where each entry is the mean intensity of the gradient\n",
        "    pooled_grads = tf.reduce_mean(grads, axis=(0, 1, 2))\n",
        "\n",
        "    ## calculates a heatmap highlighting the regions of importance in an image\n",
        "    ## for a specific\n",
        "    ## predicted class by combining the output of the last convolutional layer\n",
        "    ## with the pooled gradients.\n",
        "    last_conv_layer_output = last_conv_layer_output[0]\n",
        "    heatmap = last_conv_layer_output @ pooled_grads[..., tf.newaxis]\n",
        "    heatmap = tf.squeeze(heatmap)\n",
        "\n",
        "    ## For visualization purpose\n",
        "    heatmap = tf.maximum(heatmap, 0) / tf.math.reduce_max(heatmap)\n",
        "    return heatmap.numpy()\n"
      ],
      "metadata": {
        "id": "f1g8QyC7ZLCW"
      },
      "execution_count": null,
      "outputs": []
    },
    {
      "cell_type": "code",
      "source": [
        "## Preparing the image\n",
        "img_array = preprocess_input(get_img_array(img_path, size=img_size))\n",
        "\n",
        "## Making the model with imagenet dataset\n",
        "model = model_builder(weights=\"imagenet\")\n",
        "\n",
        "## Remove last layer's softmax(transfer learning)\n",
        "model.layers[-1].activation = None\n",
        "\n",
        "preds = model.predict(img_array)\n",
        "print(\"Predicted of image:\", decode_predictions(preds, top=1)[0])\n",
        "\n",
        "## Generate class activation heatmap\n",
        "heatmap = make_gradcam_heatmap(img_array, model, last_conv_layer_name)\n",
        "\n",
        "## visulization of heatmap\n",
        "plt.matshow(heatmap)\n",
        "plt.show()"
      ],
      "metadata": {
        "colab": {
          "base_uri": "https://localhost:8080/",
          "height": 541
        },
        "id": "cVWe7JGVYTjl",
        "outputId": "28e256db-2db2-4d2f-a85e-03d4e53d28b0"
      },
      "execution_count": null,
      "outputs": [
        {
          "output_type": "stream",
          "name": "stdout",
          "text": [
            "Downloading data from https://storage.googleapis.com/tensorflow/keras-applications/xception/xception_weights_tf_dim_ordering_tf_kernels.h5\n",
            "91884032/91884032 [==============================] - 4s 0us/step\n",
            "1/1 [==============================] - 3s 3s/step\n",
            "Downloading data from https://storage.googleapis.com/download.tensorflow.org/data/imagenet_class_index.json\n",
            "35363/35363 [==============================] - 0s 0us/step\n",
            "Predicted of image: [('n02099601', 'golden_retriever', 9.334305)]\n"
          ]
        },
        {
          "output_type": "display_data",
          "data": {
            "text/plain": [
              "<Figure size 480x480 with 1 Axes>"
            ],
            "image/png": "[encoded data removed]"
          },
          "metadata": {}
        }
      ]
    },
    {
      "cell_type": "code",
      "source": [
        "def save_and_display_gradcam(img_path, heatmap, cam_path=\"save_cam_image.jpg\", alpha=0.4):\n",
        "    ## Loading the original image\n",
        "    img = keras.utils.load_img(img_path)\n",
        "    img = keras.utils.img_to_array(img)\n",
        "\n",
        "    ## Rescale heatmap to a range 0-255\n",
        "    heatmap = np.uint8(255 * heatmap)\n",
        "\n",
        "    ## Use jet colormap to colorize heatmap\n",
        "    jet = mpl.colormaps[\"jet\"]\n",
        "\n",
        "    jet_colors = jet(np.arange(256))[:, :3]\n",
        "    jet_heatmap = jet_colors[heatmap]\n",
        "\n",
        "    ## Create an image with RGB colorized heatmap\n",
        "    jet_heatmap = keras.utils.array_to_img(jet_heatmap)\n",
        "    jet_heatmap = jet_heatmap.resize((img.shape[1], img.shape[0]))\n",
        "    jet_heatmap = keras.utils.img_to_array(jet_heatmap)\n",
        "\n",
        "    ## Superimpose the heatmap on original image\n",
        "    Superimposed_img = jet_heatmap * alpha + img\n",
        "    Superimposed_img = keras.utils.array_to_img(Superimposed_img)\n",
        "\n",
        "    ## Save the superimposed image\n",
        "    Superimposed_img.save(cam_path)\n",
        "\n",
        "    ## Displaying Grad CAM\n",
        "    display(Image(cam_path))\n",
        "\n",
        "\n",
        "save_and_display_gradcam(img_path, heatmap)"
      ],
      "metadata": {
        "colab": {
          "base_uri": "https://localhost:8080/",
          "height": 211
        },
        "id": "R4m2osf4YTmD",
        "outputId": "c5dd3f51-43ed-4928-c706-eb5c23ef32a7"
      },
      "execution_count": null,
      "outputs": [
        {
          "output_type": "display_data",
          "data": {
            "image/jpeg": "[encoded data removed]",
            "text/plain": [
              "<IPython.core.display.Image object>"
            ]
          },
          "metadata": {}
        }
      ]
    },
    {
      "cell_type": "code",
      "source": [],
      "metadata": {
        "id": "GHW4d14aZwDB"
      },
      "execution_count": null,
      "outputs": []
    }
  ]
}